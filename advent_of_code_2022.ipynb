{
 "cells": [
  {
   "cell_type": "code",
   "execution_count": 21,
   "metadata": {
    "collapsed": true
   },
   "outputs": [],
   "source": [
    "import pandas as pd\n",
    "import numpy as np\n",
    "from collections import defaultdict"
   ]
  },
  {
   "cell_type": "markdown",
   "source": [
    "# Day 1"
   ],
   "metadata": {
    "collapsed": false
   }
  },
  {
   "cell_type": "markdown",
   "source": [
    "## Part 1"
   ],
   "metadata": {
    "collapsed": false
   }
  },
  {
   "cell_type": "code",
   "execution_count": 11,
   "outputs": [
    {
     "ename": "AttributeError",
     "evalue": "'list' object has no attribute 'split'",
     "output_type": "error",
     "traceback": [
      "\u001B[0;31m---------------------------------------------------------------------------\u001B[0m",
      "\u001B[0;31mAttributeError\u001B[0m                            Traceback (most recent call last)",
      "Cell \u001B[0;32mIn[11], line 4\u001B[0m\n\u001B[1;32m      2\u001B[0m elf_id \u001B[38;5;241m=\u001B[39m \u001B[38;5;241m1\u001B[39m\n\u001B[1;32m      3\u001B[0m elfs_dict \u001B[38;5;241m=\u001B[39m defaultdict(\u001B[38;5;28;01mlambda\u001B[39;00m: \u001B[38;5;241m0\u001B[39m)\n\u001B[0;32m----> 4\u001B[0m \u001B[38;5;28mprint\u001B[39m(\u001B[43mfile\u001B[49m\u001B[38;5;241;43m.\u001B[39;49m\u001B[43mreadlines\u001B[49m\u001B[43m(\u001B[49m\u001B[43m)\u001B[49m\u001B[38;5;241;43m.\u001B[39;49m\u001B[43msplit\u001B[49m(\u001B[38;5;124m'\u001B[39m\u001B[38;5;130;01m\\n\u001B[39;00m\u001B[38;5;130;01m\\n\u001B[39;00m\u001B[38;5;124m'\u001B[39m))\n\u001B[1;32m      5\u001B[0m \u001B[38;5;28;01mfor\u001B[39;00m line \u001B[38;5;129;01min\u001B[39;00m file:\n\u001B[1;32m      6\u001B[0m     normalized_line \u001B[38;5;241m=\u001B[39m line\u001B[38;5;241m.\u001B[39mstrip()\n",
      "\u001B[0;31mAttributeError\u001B[0m: 'list' object has no attribute 'split'"
     ]
    }
   ],
   "source": [
    "with open('day1/part1/input.txt') as file:\n",
    "    elf_id = 1\n",
    "    elfs_dict = defaultdict(lambda: 0)\n",
    "    for line in file:\n",
    "        normalized_line = line.strip()\n",
    "        if not normalized_line:\n",
    "            elf_id += 1\n",
    "        else:\n",
    "            elfs_dict[f\"elf_{elf_id}\"] += int(normalized_line)\n",
    "    elfs_calories_series = pd.Series(elfs_dict, name='total_calories')\n",
    "\n",
    "print(f'Find the Elf carrying the most Calories. How many total Calories is that Elf carrying?\\n'\n",
    "      f'{elfs_calories_series.max()}')"
   ],
   "metadata": {
    "collapsed": false
   }
  },
  {
   "cell_type": "markdown",
   "source": [
    "## Part 2"
   ],
   "metadata": {
    "collapsed": false
   }
  },
  {
   "cell_type": "code",
   "execution_count": 9,
   "outputs": [
    {
     "name": "stdout",
     "output_type": "stream",
     "text": [
      "Find the top three Elves carrying the most Calories. How many Calories are those Elves carrying in total?\n",
      "206780\n"
     ]
    }
   ],
   "source": [
    "print(f'Find the top three Elves carrying the most Calories. How many Calories are those Elves carrying in total?\\n'\n",
    "      f'{elfs_calories_series.sort_values(ascending=False)[:3].sum()}')"
   ],
   "metadata": {
    "collapsed": false
   }
  },
  {
   "cell_type": "markdown",
   "source": [
    "# Day 2"
   ],
   "metadata": {
    "collapsed": false
   }
  },
  {
   "cell_type": "markdown",
   "source": [
    "# Part 1"
   ],
   "metadata": {
    "collapsed": false
   }
  },
  {
   "cell_type": "code",
   "execution_count": 59,
   "outputs": [],
   "source": [
    "strategy_df = pd.read_table('day2/part1/input.txt', sep=' ', header=None, names=['opponent', 'me'])\n",
    "\n",
    "OPTION_SELECT_MAP = {'r': 1, 'p': 2, 's': 3}\n",
    "replace_col = lambda c: c.str.replace(r'X|A', 'r', regex=True).str.replace(r'Y|B', 'p', regex=True).str.replace(r'Z|C', 's', regex=True)\n",
    "\n",
    "strategy_df['opponent_normalized'] = replace_col(strategy_df.opponent)\n",
    "strategy_df['me_normalized'] = replace_col(strategy_df.me)\n",
    "\n",
    "def win_player_1(player1, player2):\n",
    "    return ((player1 == 'r') & (player2 == 's')) | ((player1 == 'p') & (player2 == 'r')) | ((player1 == 's') & (player2 == 'p'))\n",
    "\n",
    "strategy_df['option_select_score'] = strategy_df.me_normalized.apply(lambda r: OPTION_SELECT_MAP[r])\n",
    "strategy_df['result_score'] = np.where(win_player_1(strategy_df.me_normalized, strategy_df.opponent_normalized) , 6,\n",
    "                                       np.where(win_player_1(strategy_df.opponent_normalized, strategy_df.me_normalized), 0, 3))\n",
    "strategy_df['total_score'] =  strategy_df.option_select_score + strategy_df.result_score"
   ],
   "metadata": {
    "collapsed": false
   }
  },
  {
   "cell_type": "code",
   "execution_count": 60,
   "outputs": [
    {
     "name": "stdout",
     "output_type": "stream",
     "text": [
      "What would your total score be if everything goes exactly according to your strategy guide?\n",
      "14264\n"
     ]
    }
   ],
   "source": [
    "print(f'What would your total score be if everything goes exactly according to your strategy guide?\\n'\n",
    "      f'{strategy_df.total_score.sum()}')"
   ],
   "metadata": {
    "collapsed": false
   }
  },
  {
   "cell_type": "markdown",
   "source": [
    "## Part 2"
   ],
   "metadata": {
    "collapsed": false
   }
  },
  {
   "cell_type": "code",
   "execution_count": 62,
   "outputs": [],
   "source": [
    "strategy_df['result_score_second_strategy'] = np.where(strategy_df.me == 'X', 0, np.where(strategy_df.me == 'Y', 3, 6))\n",
    "\n",
    "STRATEGY_2_MAP = {\n",
    "    'r': {6: 'p', 3: 'r', 0: 's'},\n",
    "    'p': {6: 's', 3: 'p', 0: 'r'},\n",
    "    's': {6: 'r', 3: 's', 0: 'p'},\n",
    "}\n",
    "\n",
    "strategy_df['option_select_second_strategy'] = strategy_df.apply(\n",
    "    lambda r: OPTION_SELECT_MAP[STRATEGY_2_MAP[r.opponent_normalized][r.result_score_second_strategy]], axis=1)\n",
    "strategy_df['total_score_second_strategy'] = strategy_df.option_select_second_strategy + strategy_df.result_score_second_strategy"
   ],
   "metadata": {
    "collapsed": false
   }
  },
  {
   "cell_type": "code",
   "execution_count": 64,
   "outputs": [
    {
     "name": "stdout",
     "output_type": "stream",
     "text": [
      "Following the Elf's instructions for the second column, what would your total score be if everything goes exactly according to your strategy guide?\n",
      "12382\n"
     ]
    }
   ],
   "source": [
    "print(f'Following the Elf\\'s instructions for the second column, what would your total score be if everything goes exactly according to your strategy guide?\\n'\n",
    "      f'{strategy_df.total_score_second_strategy.sum()}')"
   ],
   "metadata": {
    "collapsed": false
   }
  }
 ],
 "metadata": {
  "kernelspec": {
   "display_name": "Python 3",
   "language": "python",
   "name": "python3"
  },
  "language_info": {
   "codemirror_mode": {
    "name": "ipython",
    "version": 2
   },
   "file_extension": ".py",
   "mimetype": "text/x-python",
   "name": "python",
   "nbconvert_exporter": "python",
   "pygments_lexer": "ipython2",
   "version": "2.7.6"
  }
 },
 "nbformat": 4,
 "nbformat_minor": 0
}
